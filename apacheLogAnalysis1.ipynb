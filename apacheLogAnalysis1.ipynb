{
 "cells": [
  {
   "cell_type": "code",
   "execution_count": 4,
   "metadata": {},
   "outputs": [],
   "source": [
    "# imports for nlp\n",
    "\n",
    "import spacy\n",
    "import en_core_web_sm\n",
    "from spacy import displacy\n",
    "from spacy import matcher\n",
    "\n",
    "\n",
    "#"
   ]
  },
  {
   "cell_type": "code",
   "execution_count": 41,
   "metadata": {},
   "outputs": [
    {
     "output_type": "stream",
     "name": "stdout",
     "text": "['83.149.9.216', '-', '-', '[', '17', '/', 'May/2015:10:05:03', '+0000', ']', '\"', 'GET', '/presentations', '/', 'logstash', '-', 'monitorama-2013', '/', 'images', '/', 'kibana', '-', 'search.png', 'HTTP/1.1', '\"', '200', '203023', '\"', 'http://semicomplete.com/presentations/logstash-monitorama-2013/', '\"', '\"', 'Mozilla/5.0', '(', 'Macintosh', ';', 'Intel', 'Mac', 'OS', 'X', '10_9_1', ')', 'AppleWebKit/537.36', '(', 'KHTML', ',', 'like', 'Gecko', ')', 'Chrome/32.0.1700.77', 'Safari/537.36', '\"', '\\n', '83.149.9.216', '-', '-', '[', '17', '/', 'May/2015:10:05:43', '+0000', ']', '\"', 'GET', '/presentations', '/', 'logstash', '-', 'monitorama-2013', '/', 'images', '/', 'kibana', '-', 'dashboard3.png', 'HTTP/1.1', '\"', '200', '171717', '\"', 'http://semicomplete.com/presentations/logstash-monitorama-2013/', '\"', '\"', 'Mozilla/5.0', '(', 'Macintosh', ';', 'Intel', 'Mac', 'OS', 'X', '10_9_1', ')', 'AppleWebKit/537.36', '(', 'KHTML', ',', 'like', 'Gecko', ')', 'Chrome/32.0.1700.77', 'Safari/537.36', '\"', '\\n', '83.149.9.216', '-', '-', '[', '17', '/', 'May/2015:10:05:47', '+0000', ']', '\"', 'GET', '/presentations', '/', 'logstash', '-', 'monitorama-2013', '/', 'plugin', '/', 'highlight', '/', 'highlight.js', 'HTTP/1.1', '\"', '200', '26185', '\"', 'http://semicomplete.com/presentations/logstash-monitorama-2013/', '\"', '\"', 'Mozilla/5.0', '(', 'Macintosh', ';', 'Intel', 'Mac', 'OS', 'X', '10_9_1', ')', 'AppleWebKit/537.36', '(', 'KHTML', ',', 'like', 'Gecko', ')', 'Chrome/32.0.1700.77', 'Safari/537.36', '\"', '\\n', '83.149.9.216', '-', '-', '[', '17', '/', 'May/2015:10:05:12', '+0000', ']', '\"', 'GET', '/presentations', '/', 'logstash', '-', 'monitorama-2013', '/', 'plugin', '/', 'zoom', '-', 'js', '/', 'zoom.js', 'HTTP/1.1', '\"', '200', '7697', '\"', 'http://semicomplete.com/presentations/logstash-monitorama-2013/', '\"', '\"', 'Mozilla/5.0', '(', 'Macintosh', ';', 'Intel', 'Mac', 'OS', 'X', '10_9_1', ')', 'AppleWebKit/537.36', '(', 'KHTML', ',', 'like', 'Gecko', ')', 'Chrome/32.0.1700.77', 'Safari/537.36', '\"', '\\n', '83.149.9.216', '-', '-', '[', '17', '/', 'May/2015:10:05:07', '+0000', ']', '\"', 'GET', '/presentations', '/', 'logstash', '-', 'monitorama-2013', '/', 'plugin', '/', 'notes', '/', 'notes.js', 'HTTP/1.1', '\"', '200', '2892', '\"', 'http://semicomplete.com/presentations/logstash-monitorama-2013/', '\"', '\"', 'Mozilla/5.0', '(', 'Macintosh', ';', 'Intel', 'Mac', 'OS', 'X', '10_9_1', ')', 'AppleWebKit/537.36', '(', 'KHTML', ',', 'like', 'Gecko', ')', 'Chrome/32.0.1700.77', 'Safari/537.36', '\"', '\\n', '83.149.9.216', '-', '-', '[', '17', '/', 'May/2015:10:05:34', '+0000', ']', '\"', 'GET', '/presentations', '/', 'logstash', '-', 'monitorama-2013', '/', 'images', '/', 'sad', '-', 'medic.png', 'HTTP/1.1', '\"', '200', '430406', '\"', 'http://semicomplete.com/presentations/logstash-monitorama-2013/', '\"', '\"', 'Mozilla/5.0', '(', 'Macintosh', ';', 'Intel', 'Mac', 'OS', 'X', '10_9_1', ')', 'AppleWebKit/537.36', '(', 'KHTML', ',', 'like', 'Gecko', ')', 'Chrome/32.0.1700.77', 'Safari/537.36', '\"', '\\n', '83.149.9.216', '-', '-', '[', '17', '/', 'May/2015:10:05:57', '+0000', ']', '\"', 'GET', '/pre']\n"
    }
   ],
   "source": [
    "# loading en to nlp\n",
    "nlp = en_core_web_sm.load()\n",
    "\n",
    "# reading log file\n",
    "\n",
    "logFile = open('./error1.log', 'r')\n",
    "logs = logFile.read()\n",
    "logFile.close()\n",
    "\n",
    "doc = nlp(logs[:2000])\n",
    "\n",
    "# tokenization of doc\n",
    "token_list = []\n",
    "for tokens in doc:\n",
    "    token_list.append(tokens.text)\n",
    "print(token_list)\n"
   ]
  },
  {
   "cell_type": "code",
   "execution_count": 42,
   "metadata": {},
   "outputs": [
    {
     "output_type": "stream",
     "name": "stdout",
     "text": "['83.149.9.216', '17', 'May/2015:10:05:03', '+0000', 'GET', '/presentations', 'logstash', 'monitorama-2013', 'images', 'kibana', 'search.png', 'HTTP/1.1', '200', '203023', 'http://semicomplete.com/presentations/logstash-monitorama-2013/', 'Mozilla/5.0', 'Macintosh', ';', 'Intel', 'Mac', 'OS', 'X', '10_9_1', 'AppleWebKit/537.36', 'KHTML', ',', 'like', 'Gecko', 'Chrome/32.0.1700.77', 'Safari/537.36', '\\n', '83.149.9.216', '17', 'May/2015:10:05:43', '+0000', 'GET', '/presentations', 'logstash', 'monitorama-2013', 'images', 'kibana', 'dashboard3.png', 'HTTP/1.1', '200', '171717', 'http://semicomplete.com/presentations/logstash-monitorama-2013/', 'Mozilla/5.0', 'Macintosh', ';', 'Intel', 'Mac', 'OS', 'X', '10_9_1', 'AppleWebKit/537.36', 'KHTML', ',', 'like', 'Gecko', 'Chrome/32.0.1700.77', 'Safari/537.36', '\\n', '83.149.9.216', '17', 'May/2015:10:05:47', '+0000', 'GET', '/presentations', 'logstash', 'monitorama-2013', 'plugin', 'highlight', 'highlight.js', 'HTTP/1.1', '200', '26185', 'http://semicomplete.com/presentations/logstash-monitorama-2013/', 'Mozilla/5.0', 'Macintosh', ';', 'Intel', 'Mac', 'OS', 'X', '10_9_1', 'AppleWebKit/537.36', 'KHTML', ',', 'like', 'Gecko', 'Chrome/32.0.1700.77', 'Safari/537.36', '\\n', '83.149.9.216', '17', 'May/2015:10:05:12', '+0000', 'GET', '/presentations', 'logstash', 'monitorama-2013', 'plugin', 'zoom', 'js', 'zoom.js', 'HTTP/1.1', '200', '7697', 'http://semicomplete.com/presentations/logstash-monitorama-2013/', 'Mozilla/5.0', 'Macintosh', ';', 'Intel', 'Mac', 'OS', 'X', '10_9_1', 'AppleWebKit/537.36', 'KHTML', ',', 'like', 'Gecko', 'Chrome/32.0.1700.77', 'Safari/537.36', '\\n', '83.149.9.216', '17', 'May/2015:10:05:07', '+0000', 'GET', '/presentations', 'logstash', 'monitorama-2013', 'plugin', 'notes', 'notes.js', 'HTTP/1.1', '200', '2892', 'http://semicomplete.com/presentations/logstash-monitorama-2013/', 'Mozilla/5.0', 'Macintosh', ';', 'Intel', 'Mac', 'OS', 'X', '10_9_1', 'AppleWebKit/537.36', 'KHTML', ',', 'like', 'Gecko', 'Chrome/32.0.1700.77', 'Safari/537.36', '\\n', '83.149.9.216', '17', 'May/2015:10:05:34', '+0000', 'GET', '/presentations', 'logstash', 'monitorama-2013', 'images', 'sad', 'medic.png', 'HTTP/1.1', '200', '430406', 'http://semicomplete.com/presentations/logstash-monitorama-2013/', 'Mozilla/5.0', 'Macintosh', ';', 'Intel', 'Mac', 'OS', 'X', '10_9_1', 'AppleWebKit/537.36', 'KHTML', ',', 'like', 'Gecko', 'Chrome/32.0.1700.77', 'Safari/537.36', '\\n', '83.149.9.216', '17', 'May/2015:10:05:57', '+0000', 'GET', '/pre']\n"
    }
   ],
   "source": [
    "#from spacy.lang.en.stop_words import STOP_WORDS\n",
    "stop_words = nlp.Defaults.stop_words\n",
    " \n",
    "stop_words |= {'-', '/', '\"', '[', ']', '(', ')'} # custom stop words appended\n",
    "\n",
    "filtered_list = []\n",
    "for token in token_list:\n",
    "    if token not  in stop_words:\n",
    "        filtered_list.append(token)\n",
    "print(filtered_list)\n",
    "\n"
   ]
  },
  {
   "cell_type": "code",
   "execution_count": null,
   "metadata": {},
   "outputs": [],
   "source": [
    "displacy.serve(doc, style='ent', jupyter=True)"
   ]
  },
  {
   "cell_type": "code",
   "execution_count": null,
   "metadata": {},
   "outputs": [],
   "source": []
  }
 ],
 "metadata": {
  "language_info": {
   "codemirror_mode": {
    "name": "ipython",
    "version": 3
   },
   "file_extension": ".py",
   "mimetype": "text/x-python",
   "name": "python",
   "nbconvert_exporter": "python",
   "pygments_lexer": "ipython3",
   "version": "3.7.5-final"
  },
  "orig_nbformat": 2,
  "kernelspec": {
   "name": "python37564bit0101c40685f74ac2afe19d6555c1a2e3",
   "display_name": "Python 3.7.5 64-bit"
  }
 },
 "nbformat": 4,
 "nbformat_minor": 2
}